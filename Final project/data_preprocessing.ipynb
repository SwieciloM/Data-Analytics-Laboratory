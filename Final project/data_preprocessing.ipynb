{
 "cells": [
  {
   "cell_type": "markdown",
   "metadata": {},
   "source": [
    "<h1 style=\"text-align: center\">Data Preprocessing</h1>"
   ]
  },
  {
   "cell_type": "markdown",
   "metadata": {},
   "source": [
    "## About data\n",
    "Every two years, the City of Somerville sends out a happiness survey to a random sample of Somerville residents. The survey asks residents to rate their personal happiness, wellbeing, and satisfaction with City services. The combined dataset includes the survey responses from 2011 to 2021. The dataset is intended for public access and can be found on many websites ([official source](https://data.somervillema.gov/Happiness/Somerville-Happiness-Survey-Responses/bi8e-5vw8)). More information about the Happiness Survey is on the [City of Somerville website](https://www.somervillema.gov/departments/mayors-office/somerstat)."
   ]
  },
  {
   "cell_type": "markdown",
   "metadata": {},
   "source": [
    "## Data cleaning"
   ]
  },
  {
   "cell_type": "markdown",
   "metadata": {},
   "source": [
    "The entire dataset consists of 80 columns with 10744 entries therefore removing unnecessary data and handling missing values was inevitable. "
   ]
  },
  {
   "cell_type": "code",
   "execution_count": 1,
   "metadata": {},
   "outputs": [],
   "source": [
    "import pandas as pd\n",
    "import numpy as np\n",
    "import matplotlib.pyplot as plt"
   ]
  },
  {
   "cell_type": "code",
   "execution_count": 2,
   "metadata": {},
   "outputs": [
    {
     "name": "stdout",
     "output_type": "stream",
     "text": [
      "<class 'pandas.core.frame.DataFrame'>\n",
      "RangeIndex: 10744 entries, 0 to 10743\n",
      "Data columns (total 80 columns):\n",
      " #   Column                                                                                        Non-Null Count  Dtype  \n",
      "---  ------                                                                                        --------------  -----  \n",
      " 0   Combined_ID                                                                                   10744 non-null  int64  \n",
      " 1   Year                                                                                          10744 non-null  int64  \n",
      " 2   How.happy.do.you.feel.right.now                                                               10522 non-null  float64\n",
      " 3   How.satisfied.are.you.with.your.life.in.general                                               10516 non-null  float64\n",
      " 4   How.satisfied.are.you.with.Somerville.as.a.place.to.live                                      4499 non-null   float64\n",
      " 5   In.general..how.similar.are.you.to.other.people.you.know                                      6544 non-null   float64\n",
      " 6   When.making.decisions..are.you.more.likely.to.seek.advice.or.decide.for.yourself              6557 non-null   float64\n",
      " 7   How.satisfied.are.you.with.your.neighborhood                                                  4505 non-null   float64\n",
      " 8   How.proud.are.you.to.be.a.Somerville.resident                                                 1006 non-null   float64\n",
      " 9   How.would.you.rate.the.following..The.availability.of.information.about.city.services         3721 non-null   float64\n",
      " 10  How.would.you.rate.the.following..The.availability.of.affordable.housing                      5664 non-null   float64\n",
      " 11  How.would.you.rate.the.following..The.cost.of.housing                                         3903 non-null   float64\n",
      " 12  How.would.you.rate.the.following..The.overall.quality.of.public.schools                       7365 non-null   float64\n",
      " 13  How.would.you.rate.the.following..The.beauty.or.physical.setting.of.Somerville                6073 non-null   float64\n",
      " 14  How.would.you.rate.the.following..The.effectiveness.of.the.local.police                       5559 non-null   float64\n",
      " 15  How.would.you.rate.the.following..Your.trust.in.the.local.police                              3648 non-null   float64\n",
      " 16  How.would.you.rate.the.following..The.maintenance.of.streets..sidewalks..and..squares         1204 non-null   float64\n",
      " 17  How.would.you.rate.the.following..The.maintenance.of.streets.and.sidewalks                    2733 non-null   float64\n",
      " 18  How.would.you.rate.the.following..The.availability.of.social.community.events                 3811 non-null   float64\n",
      " 19  How.safe.do.you.feel.walking.in.your.neighborhood.at.night                                    3900 non-null   float64\n",
      " 20  How.satisfied.are.you.with.the.beauty.or.physical.setting.of.your.neighborhood                3905 non-null   float64\n",
      " 21  How.satisfied.are.you.with.the.appearance.of.parks.in.your.neighborhood                       1191 non-null   float64\n",
      " 22  How.satisfied.are.you.with.the.appearance.of.parks.and.squares.in.your.neighborhood           2712 non-null   float64\n",
      " 23  What.is.your.gender                                                                           10291 non-null  object \n",
      " 24  Age                                                                                           10288 non-null  object \n",
      " 25  Marital.status                                                                                6401 non-null   object \n",
      " 26  Are.you.of.Hispanic..Latino..or.Spanish.origin                                                10150 non-null  float64\n",
      " 27  What.is.your.race.or.ethnicity                                                                10105 non-null  object \n",
      " 28  Do.you.have.children.age.18.or.younger.who.live.with.you                                      4475 non-null   object \n",
      " 29  Describe.your.housing.status.in.Somerville                                                    4233 non-null   object \n",
      " 30  Do.you.plan.to.move.away.from.Somerville.in.the.next.two.years                                3741 non-null   object \n",
      " 31  How.long.have.you.lived.here                                                                  4231 non-null   object \n",
      " 32  What.is.your.annual.household.income                                                          9688 non-null   object \n",
      " 33  Are.you.a.student                                                                             3760 non-null   object \n",
      " 34  Ward                                                                                          1537 non-null   float64\n",
      " 35  Precinct                                                                                      1537 non-null   object \n",
      " 36  How.anxious.did.you.feel.yesterday                                                            824 non-null    float64\n",
      " 37  How.satisfied.are.you.with.the.quality.and.number.of.transportation.options.available.to.you  816 non-null    float64\n",
      " 38  Do.you.feel.the.City.is.headed.in.the.right.direction.or.is.it.on.the.wrong.track             3220 non-null   object \n",
      " 39  How.safe.do.you.feel.crossing.a.busy.street.in.Somerville                                     2734 non-null   float64\n",
      " 40  How.convenient.is.it.for.you.to.get.where.you.want.to.go                                      1471 non-null   float64\n",
      " 41  How.satisfied.are.you.with.the.condition.of.your.housing                                      2708 non-null   float64\n",
      " 42  What.is.your.primary.mode.of.transportation                                                   1456 non-null   object \n",
      " 43  Which.of.the.following.have.you.used.in.the.past.month.to.get.around                          1464 non-null   object \n",
      " 44  Language                                                                                      3551 non-null   object \n",
      " 45  survey_method                                                                                 10744 non-null  object \n",
      " 46  language_spoken_english                                                                       3787 non-null   float64\n",
      " 47  language_spoken_spanish                                                                       3601 non-null   float64\n",
      " 48  language_spoken_portuguese                                                                    3597 non-null   float64\n",
      " 49  language_spoken_chinese                                                                       3595 non-null   float64\n",
      " 50  language_spoken_haitian_creole                                                                3596 non-null   float64\n",
      " 51  language_spoken_nepali                                                                        3595 non-null   float64\n",
      " 52  language_spoken_other                                                                         3595 non-null   float64\n",
      " 53  language_spoken_category                                                                      3604 non-null   object \n",
      " 54  race_ethnicity_asian_pacific_islander                                                         10096 non-null  float64\n",
      " 55  race_ethnicity_black                                                                          10096 non-null  float64\n",
      " 56  race_ethnicity_white                                                                          10096 non-null  float64\n",
      " 57  race_ethnicity_other                                                                          10098 non-null  float64\n",
      " 58  race_ethnicity_prefernottosa                                                                  10105 non-null  float64\n",
      " 59  age_mid                                                                                       10288 non-null  float64\n",
      " 60  tenure_mid                                                                                    4231 non-null   float64\n",
      " 61  household_income_mid                                                                          9688 non-null   float64\n",
      " 62  somerville_median_income                                                                      10744 non-null  int64  \n",
      " 63  inflation_adjustment                                                                          10744 non-null  float64\n",
      " 64  disability_yn                                                                                 1272 non-null   object \n",
      " 65  employment_status                                                                             526 non-null    object \n",
      " 66  zipcode                                                                                       2311 non-null   float64\n",
      " 67  in_the_past_year_have_you_used_311_via_phone_online_etc                                       1267 non-null   object \n",
      " 68  in_the_past_year_did_you_attend_a_city_led_meeting                                            1238 non-null   object \n",
      " 69  in_the_past_year_how_satisfied_were_you_with_your_ability_to_access_city_services             1208 non-null   float64\n",
      " 70  comments_survey_complaints_political                                                          10744 non-null  int64  \n",
      " 71  comments_transportation_roads_locations                                                       10744 non-null  int64  \n",
      " 72  comments_living_prices                                                                        10744 non-null  int64  \n",
      " 73  comments_natural_physical_beauty                                                              10744 non-null  int64  \n",
      " 74  comments_noise_youth_complaints                                                               10744 non-null  int64  \n",
      " 75  comments_city_events_structures                                                               10744 non-null  int64  \n",
      " 76  comments_health_concerns                                                                      10744 non-null  int64  \n",
      " 77  comments_public_safety                                                                        10744 non-null  int64  \n",
      " 78  comments_elaboration_general                                                                  10744 non-null  int64  \n",
      " 79  comments_misc                                                                                 10744 non-null  int64  \n",
      "dtypes: float64(46), int64(13), object(21)\n",
      "memory usage: 6.6+ MB\n"
     ]
    },
    {
     "name": "stderr",
     "output_type": "stream",
     "text": [
      "/tmp/ipykernel_29898/944960539.py:2: DtypeWarning: Columns (42,43,65,67,68) have mixed types. Specify dtype option on import or set low_memory=False.\n",
      "  raw_df = pd.read_csv('data/Somerville_Happiness_Survey_Responses.csv')\n"
     ]
    },
    {
     "data": {
      "text/html": [
       "<div>\n",
       "<style scoped>\n",
       "    .dataframe tbody tr th:only-of-type {\n",
       "        vertical-align: middle;\n",
       "    }\n",
       "\n",
       "    .dataframe tbody tr th {\n",
       "        vertical-align: top;\n",
       "    }\n",
       "\n",
       "    .dataframe thead th {\n",
       "        text-align: right;\n",
       "    }\n",
       "</style>\n",
       "<table border=\"1\" class=\"dataframe\">\n",
       "  <thead>\n",
       "    <tr style=\"text-align: right;\">\n",
       "      <th></th>\n",
       "      <th>Combined_ID</th>\n",
       "      <th>Year</th>\n",
       "      <th>How.happy.do.you.feel.right.now</th>\n",
       "      <th>How.satisfied.are.you.with.your.life.in.general</th>\n",
       "      <th>How.satisfied.are.you.with.Somerville.as.a.place.to.live</th>\n",
       "      <th>In.general..how.similar.are.you.to.other.people.you.know</th>\n",
       "      <th>When.making.decisions..are.you.more.likely.to.seek.advice.or.decide.for.yourself</th>\n",
       "      <th>How.satisfied.are.you.with.your.neighborhood</th>\n",
       "      <th>How.proud.are.you.to.be.a.Somerville.resident</th>\n",
       "      <th>How.would.you.rate.the.following..The.availability.of.information.about.city.services</th>\n",
       "      <th>...</th>\n",
       "      <th>comments_survey_complaints_political</th>\n",
       "      <th>comments_transportation_roads_locations</th>\n",
       "      <th>comments_living_prices</th>\n",
       "      <th>comments_natural_physical_beauty</th>\n",
       "      <th>comments_noise_youth_complaints</th>\n",
       "      <th>comments_city_events_structures</th>\n",
       "      <th>comments_health_concerns</th>\n",
       "      <th>comments_public_safety</th>\n",
       "      <th>comments_elaboration_general</th>\n",
       "      <th>comments_misc</th>\n",
       "    </tr>\n",
       "  </thead>\n",
       "  <tbody>\n",
       "    <tr>\n",
       "      <th>0</th>\n",
       "      <td>1</td>\n",
       "      <td>2011</td>\n",
       "      <td>8.0</td>\n",
       "      <td>5.0</td>\n",
       "      <td>5.0</td>\n",
       "      <td>3.0</td>\n",
       "      <td>10.0</td>\n",
       "      <td>8.0</td>\n",
       "      <td>NaN</td>\n",
       "      <td>NaN</td>\n",
       "      <td>...</td>\n",
       "      <td>0</td>\n",
       "      <td>0</td>\n",
       "      <td>0</td>\n",
       "      <td>0</td>\n",
       "      <td>0</td>\n",
       "      <td>0</td>\n",
       "      <td>0</td>\n",
       "      <td>0</td>\n",
       "      <td>0</td>\n",
       "      <td>0</td>\n",
       "    </tr>\n",
       "    <tr>\n",
       "      <th>1</th>\n",
       "      <td>2</td>\n",
       "      <td>2011</td>\n",
       "      <td>7.0</td>\n",
       "      <td>8.0</td>\n",
       "      <td>9.0</td>\n",
       "      <td>7.0</td>\n",
       "      <td>8.0</td>\n",
       "      <td>9.0</td>\n",
       "      <td>NaN</td>\n",
       "      <td>NaN</td>\n",
       "      <td>...</td>\n",
       "      <td>0</td>\n",
       "      <td>0</td>\n",
       "      <td>0</td>\n",
       "      <td>0</td>\n",
       "      <td>0</td>\n",
       "      <td>0</td>\n",
       "      <td>0</td>\n",
       "      <td>0</td>\n",
       "      <td>0</td>\n",
       "      <td>0</td>\n",
       "    </tr>\n",
       "    <tr>\n",
       "      <th>2</th>\n",
       "      <td>3</td>\n",
       "      <td>2011</td>\n",
       "      <td>NaN</td>\n",
       "      <td>NaN</td>\n",
       "      <td>4.0</td>\n",
       "      <td>NaN</td>\n",
       "      <td>NaN</td>\n",
       "      <td>4.0</td>\n",
       "      <td>NaN</td>\n",
       "      <td>NaN</td>\n",
       "      <td>...</td>\n",
       "      <td>0</td>\n",
       "      <td>0</td>\n",
       "      <td>0</td>\n",
       "      <td>0</td>\n",
       "      <td>0</td>\n",
       "      <td>0</td>\n",
       "      <td>0</td>\n",
       "      <td>0</td>\n",
       "      <td>0</td>\n",
       "      <td>0</td>\n",
       "    </tr>\n",
       "    <tr>\n",
       "      <th>3</th>\n",
       "      <td>4</td>\n",
       "      <td>2011</td>\n",
       "      <td>10.0</td>\n",
       "      <td>10.0</td>\n",
       "      <td>10.0</td>\n",
       "      <td>9.0</td>\n",
       "      <td>10.0</td>\n",
       "      <td>NaN</td>\n",
       "      <td>NaN</td>\n",
       "      <td>NaN</td>\n",
       "      <td>...</td>\n",
       "      <td>0</td>\n",
       "      <td>0</td>\n",
       "      <td>0</td>\n",
       "      <td>0</td>\n",
       "      <td>0</td>\n",
       "      <td>0</td>\n",
       "      <td>0</td>\n",
       "      <td>0</td>\n",
       "      <td>0</td>\n",
       "      <td>0</td>\n",
       "    </tr>\n",
       "    <tr>\n",
       "      <th>4</th>\n",
       "      <td>5</td>\n",
       "      <td>2011</td>\n",
       "      <td>10.0</td>\n",
       "      <td>10.0</td>\n",
       "      <td>NaN</td>\n",
       "      <td>NaN</td>\n",
       "      <td>NaN</td>\n",
       "      <td>NaN</td>\n",
       "      <td>NaN</td>\n",
       "      <td>NaN</td>\n",
       "      <td>...</td>\n",
       "      <td>0</td>\n",
       "      <td>0</td>\n",
       "      <td>0</td>\n",
       "      <td>0</td>\n",
       "      <td>0</td>\n",
       "      <td>0</td>\n",
       "      <td>0</td>\n",
       "      <td>0</td>\n",
       "      <td>0</td>\n",
       "      <td>0</td>\n",
       "    </tr>\n",
       "  </tbody>\n",
       "</table>\n",
       "<p>5 rows × 80 columns</p>\n",
       "</div>"
      ],
      "text/plain": [
       "   Combined_ID  Year  How.happy.do.you.feel.right.now  \\\n",
       "0            1  2011                              8.0   \n",
       "1            2  2011                              7.0   \n",
       "2            3  2011                              NaN   \n",
       "3            4  2011                             10.0   \n",
       "4            5  2011                             10.0   \n",
       "\n",
       "   How.satisfied.are.you.with.your.life.in.general  \\\n",
       "0                                              5.0   \n",
       "1                                              8.0   \n",
       "2                                              NaN   \n",
       "3                                             10.0   \n",
       "4                                             10.0   \n",
       "\n",
       "   How.satisfied.are.you.with.Somerville.as.a.place.to.live  \\\n",
       "0                                                5.0          \n",
       "1                                                9.0          \n",
       "2                                                4.0          \n",
       "3                                               10.0          \n",
       "4                                                NaN          \n",
       "\n",
       "   In.general..how.similar.are.you.to.other.people.you.know  \\\n",
       "0                                                3.0          \n",
       "1                                                7.0          \n",
       "2                                                NaN          \n",
       "3                                                9.0          \n",
       "4                                                NaN          \n",
       "\n",
       "   When.making.decisions..are.you.more.likely.to.seek.advice.or.decide.for.yourself  \\\n",
       "0                                               10.0                                  \n",
       "1                                                8.0                                  \n",
       "2                                                NaN                                  \n",
       "3                                               10.0                                  \n",
       "4                                                NaN                                  \n",
       "\n",
       "   How.satisfied.are.you.with.your.neighborhood  \\\n",
       "0                                           8.0   \n",
       "1                                           9.0   \n",
       "2                                           4.0   \n",
       "3                                           NaN   \n",
       "4                                           NaN   \n",
       "\n",
       "   How.proud.are.you.to.be.a.Somerville.resident  \\\n",
       "0                                            NaN   \n",
       "1                                            NaN   \n",
       "2                                            NaN   \n",
       "3                                            NaN   \n",
       "4                                            NaN   \n",
       "\n",
       "   How.would.you.rate.the.following..The.availability.of.information.about.city.services  \\\n",
       "0                                                NaN                                       \n",
       "1                                                NaN                                       \n",
       "2                                                NaN                                       \n",
       "3                                                NaN                                       \n",
       "4                                                NaN                                       \n",
       "\n",
       "   ...  comments_survey_complaints_political  \\\n",
       "0  ...                                     0   \n",
       "1  ...                                     0   \n",
       "2  ...                                     0   \n",
       "3  ...                                     0   \n",
       "4  ...                                     0   \n",
       "\n",
       "   comments_transportation_roads_locations  comments_living_prices  \\\n",
       "0                                        0                       0   \n",
       "1                                        0                       0   \n",
       "2                                        0                       0   \n",
       "3                                        0                       0   \n",
       "4                                        0                       0   \n",
       "\n",
       "   comments_natural_physical_beauty  comments_noise_youth_complaints  \\\n",
       "0                                 0                                0   \n",
       "1                                 0                                0   \n",
       "2                                 0                                0   \n",
       "3                                 0                                0   \n",
       "4                                 0                                0   \n",
       "\n",
       "   comments_city_events_structures  comments_health_concerns  \\\n",
       "0                                0                         0   \n",
       "1                                0                         0   \n",
       "2                                0                         0   \n",
       "3                                0                         0   \n",
       "4                                0                         0   \n",
       "\n",
       "   comments_public_safety  comments_elaboration_general  comments_misc  \n",
       "0                       0                             0              0  \n",
       "1                       0                             0              0  \n",
       "2                       0                             0              0  \n",
       "3                       0                             0              0  \n",
       "4                       0                             0              0  \n",
       "\n",
       "[5 rows x 80 columns]"
      ]
     },
     "execution_count": 2,
     "metadata": {},
     "output_type": "execute_result"
    }
   ],
   "source": [
    "# Loading database from .csv\n",
    "raw_df = pd.read_csv('data/Somerville_Happiness_Survey_Responses.csv')\n",
    "\n",
    "# Displaying informations about database\n",
    "raw_df.info()\n",
    "raw_df.head()"
   ]
  },
  {
   "cell_type": "markdown",
   "metadata": {},
   "source": [
    "### Columns reduction and renaming"
   ]
  },
  {
   "cell_type": "markdown",
   "metadata": {},
   "source": [
    "To begin with, from the entire database we selected only those columns that are meaningful to us and replaced their names with shorter ones. We also limited the scope of the data to those from 2021."
   ]
  },
  {
   "cell_type": "code",
   "execution_count": 58,
   "metadata": {},
   "outputs": [
    {
     "name": "stdout",
     "output_type": "stream",
     "text": [
      "<class 'pandas.core.frame.DataFrame'>\n",
      "Int64Index: 1298 entries, 9446 to 10743\n",
      "Data columns (total 10 columns):\n",
      " #   Column                         Non-Null Count  Dtype  \n",
      "---  ------                         --------------  -----  \n",
      " 0   Life satisfaction              1265 non-null   float64\n",
      " 1   Neighborhood satisfaction      1277 non-null   float64\n",
      " 2   Housing satisfaction           1258 non-null   float64\n",
      " 3   Community events availability  1197 non-null   float64\n",
      " 4   Sense of security              1255 non-null   float64\n",
      " 5   Living with children under 18  1268 non-null   object \n",
      " 6   Annual household income        1182 non-null   object \n",
      " 7   Disability                     1259 non-null   object \n",
      " 8   Gender                         1259 non-null   object \n",
      " 9   Age                            1239 non-null   object \n",
      "dtypes: float64(5), object(5)\n",
      "memory usage: 111.5+ KB\n"
     ]
    }
   ],
   "source": [
    "desired_columns = [\"How.satisfied.are.you.with.your.life.in.general\",\n",
    "                  \"How.satisfied.are.you.with.your.neighborhood\",\n",
    "                  \"How.satisfied.are.you.with.the.condition.of.your.housing\",\n",
    "                  \"How.would.you.rate.the.following..The.availability.of.social.community.events\",\n",
    "                  \"How.safe.do.you.feel.walking.in.your.neighborhood.at.night\",\n",
    "                  \"Do.you.have.children.age.18.or.younger.who.live.with.you\",\n",
    "                  \"What.is.your.annual.household.income\",\n",
    "                  \"disability_yn\",\n",
    "                  \"What.is.your.gender\",\n",
    "                  \"Age\"]  \n",
    "\n",
    "translation_dict = {\"How.satisfied.are.you.with.your.life.in.general\" : \"Life satisfaction\",\n",
    "                    \"How.satisfied.are.you.with.your.neighborhood\" : \"Neighborhood satisfaction\",\n",
    "                    \"How.satisfied.are.you.with.the.condition.of.your.housing\" : \"Housing satisfaction\",\n",
    "                    \"How.would.you.rate.the.following..The.availability.of.social.community.events\" : \"Community events availability\",\n",
    "                    \"How.safe.do.you.feel.walking.in.your.neighborhood.at.night\" : \"Sense of security\",\n",
    "                    \"Do.you.have.children.age.18.or.younger.who.live.with.you\" : \"Living with children under 18\",\n",
    "                    \"What.is.your.annual.household.income\" : \"Annual household income\",\n",
    "                    \"disability_yn\" : \"Disability\",\n",
    "                    \"What.is.your.gender\" : \"Gender\",\n",
    "                    \"Age\" : \"Age\"}\n",
    "\n",
    "# Selecting specific columns with rows only from 2021 \n",
    "trimed_df = raw_df.loc[raw_df['Year'] == 2021, desired_columns]\n",
    "\n",
    "# Renaming long column names to short ones\n",
    "trimed_df = trimed_df.rename(columns = translation_dict)\n",
    "\n",
    "# Displaying informations about database\n",
    "trimed_df.info()"
   ]
  },
  {
   "cell_type": "markdown",
   "metadata": {},
   "source": [
    "### Handling missing values"
   ]
  },
  {
   "cell_type": "markdown",
   "metadata": {},
   "source": [
    "In our project, the most relevant parameter is the level of life satisfaction. For this reason, we had to remove all rows in which the value for this column was unknown (NaN). In addition, we also checked the other columns for missing data."
   ]
  },
  {
   "cell_type": "code",
   "execution_count": 59,
   "metadata": {},
   "outputs": [
    {
     "data": {
      "text/html": [
       "<div>\n",
       "<style scoped>\n",
       "    .dataframe tbody tr th:only-of-type {\n",
       "        vertical-align: middle;\n",
       "    }\n",
       "\n",
       "    .dataframe tbody tr th {\n",
       "        vertical-align: top;\n",
       "    }\n",
       "\n",
       "    .dataframe thead th {\n",
       "        text-align: right;\n",
       "    }\n",
       "</style>\n",
       "<table border=\"1\" class=\"dataframe\">\n",
       "  <thead>\n",
       "    <tr style=\"text-align: right;\">\n",
       "      <th></th>\n",
       "      <th>Column</th>\n",
       "      <th>Null Count</th>\n",
       "    </tr>\n",
       "  </thead>\n",
       "  <tbody>\n",
       "    <tr>\n",
       "      <th>0</th>\n",
       "      <td>Annual household income</td>\n",
       "      <td>102</td>\n",
       "    </tr>\n",
       "    <tr>\n",
       "      <th>1</th>\n",
       "      <td>Community events availability</td>\n",
       "      <td>81</td>\n",
       "    </tr>\n",
       "    <tr>\n",
       "      <th>2</th>\n",
       "      <td>Age</td>\n",
       "      <td>49</td>\n",
       "    </tr>\n",
       "    <tr>\n",
       "      <th>3</th>\n",
       "      <td>Disability</td>\n",
       "      <td>32</td>\n",
       "    </tr>\n",
       "    <tr>\n",
       "      <th>4</th>\n",
       "      <td>Gender</td>\n",
       "      <td>32</td>\n",
       "    </tr>\n",
       "    <tr>\n",
       "      <th>5</th>\n",
       "      <td>Sense of security</td>\n",
       "      <td>25</td>\n",
       "    </tr>\n",
       "    <tr>\n",
       "      <th>6</th>\n",
       "      <td>Living with children under 18</td>\n",
       "      <td>23</td>\n",
       "    </tr>\n",
       "    <tr>\n",
       "      <th>7</th>\n",
       "      <td>Housing satisfaction</td>\n",
       "      <td>20</td>\n",
       "    </tr>\n",
       "    <tr>\n",
       "      <th>8</th>\n",
       "      <td>Life satisfaction</td>\n",
       "      <td>0</td>\n",
       "    </tr>\n",
       "    <tr>\n",
       "      <th>9</th>\n",
       "      <td>Neighborhood satisfaction</td>\n",
       "      <td>0</td>\n",
       "    </tr>\n",
       "  </tbody>\n",
       "</table>\n",
       "</div>"
      ],
      "text/plain": [
       "                          Column  Null Count\n",
       "0        Annual household income         102\n",
       "1  Community events availability          81\n",
       "2                            Age          49\n",
       "3                     Disability          32\n",
       "4                         Gender          32\n",
       "5              Sense of security          25\n",
       "6  Living with children under 18          23\n",
       "7           Housing satisfaction          20\n",
       "8              Life satisfaction           0\n",
       "9      Neighborhood satisfaction           0"
      ]
     },
     "metadata": {},
     "output_type": "display_data"
    },
    {
     "name": "stdout",
     "output_type": "stream",
     "text": [
      "Number of all null values: 364\n",
      "Number of rows with at least one null value: 216\n"
     ]
    }
   ],
   "source": [
    "# Dropping rows with missing values in one specific column (Life satisfaction)\n",
    "trimed_df = trimed_df.dropna(subset = ['Life satisfaction'])\n",
    "\n",
    "# Checking how many missing values are in each column\n",
    "nan_values_count = trimed_df.isna().sum().sort_values(ascending = False)\n",
    "info_df = pd.DataFrame(data = {\"Column\" : nan_values_count.index, \"Null Count\" : nan_values_count.values})\n",
    "\n",
    "# Displaying informations about database\n",
    "display(info_df)\n",
    "print(\"Number of all null values: {}\".format(nan_values_count.values.sum()))\n",
    "num_of_null_in_rows = trimed_df.isnull().sum(axis = 1)\n",
    "print(\"Number of rows with at least one null value: {}\".format(len(trimed_df[num_of_null_in_rows>0].index)))"
   ]
  },
  {
   "cell_type": "markdown",
   "metadata": {},
   "source": [
    "There are 364 remaining null values in the dataset located in 216 rows. Since our current dataset still has a lot of entries (~1300) we can remove all rows containing at least one null value."
   ]
  },
  {
   "cell_type": "code",
   "execution_count": 60,
   "metadata": {},
   "outputs": [
    {
     "name": "stdout",
     "output_type": "stream",
     "text": [
      "<class 'pandas.core.frame.DataFrame'>\n",
      "RangeIndex: 1049 entries, 0 to 1048\n",
      "Data columns (total 10 columns):\n",
      " #   Column                         Non-Null Count  Dtype  \n",
      "---  ------                         --------------  -----  \n",
      " 0   Life satisfaction              1049 non-null   float64\n",
      " 1   Neighborhood satisfaction      1049 non-null   float64\n",
      " 2   Housing satisfaction           1049 non-null   float64\n",
      " 3   Community events availability  1049 non-null   float64\n",
      " 4   Sense of security              1049 non-null   float64\n",
      " 5   Living with children under 18  1049 non-null   object \n",
      " 6   Annual household income        1049 non-null   object \n",
      " 7   Disability                     1049 non-null   object \n",
      " 8   Gender                         1049 non-null   object \n",
      " 9   Age                            1049 non-null   object \n",
      "dtypes: float64(5), object(5)\n",
      "memory usage: 82.1+ KB\n"
     ]
    },
    {
     "data": {
      "text/html": [
       "<div>\n",
       "<style scoped>\n",
       "    .dataframe tbody tr th:only-of-type {\n",
       "        vertical-align: middle;\n",
       "    }\n",
       "\n",
       "    .dataframe tbody tr th {\n",
       "        vertical-align: top;\n",
       "    }\n",
       "\n",
       "    .dataframe thead th {\n",
       "        text-align: right;\n",
       "    }\n",
       "</style>\n",
       "<table border=\"1\" class=\"dataframe\">\n",
       "  <thead>\n",
       "    <tr style=\"text-align: right;\">\n",
       "      <th></th>\n",
       "      <th>Life satisfaction</th>\n",
       "      <th>Neighborhood satisfaction</th>\n",
       "      <th>Housing satisfaction</th>\n",
       "      <th>Community events availability</th>\n",
       "      <th>Sense of security</th>\n",
       "      <th>Living with children under 18</th>\n",
       "      <th>Annual household income</th>\n",
       "      <th>Disability</th>\n",
       "      <th>Gender</th>\n",
       "      <th>Age</th>\n",
       "    </tr>\n",
       "  </thead>\n",
       "  <tbody>\n",
       "    <tr>\n",
       "      <th>0</th>\n",
       "      <td>9.0</td>\n",
       "      <td>9.0</td>\n",
       "      <td>9.0</td>\n",
       "      <td>5.0</td>\n",
       "      <td>9.0</td>\n",
       "      <td>no</td>\n",
       "      <td>$75,000 to $99,999</td>\n",
       "      <td>no</td>\n",
       "      <td>Female</td>\n",
       "      <td>55-64</td>\n",
       "    </tr>\n",
       "    <tr>\n",
       "      <th>1</th>\n",
       "      <td>8.0</td>\n",
       "      <td>7.0</td>\n",
       "      <td>6.0</td>\n",
       "      <td>4.0</td>\n",
       "      <td>6.0</td>\n",
       "      <td>no</td>\n",
       "      <td>$75,000 to $99,999</td>\n",
       "      <td>yes</td>\n",
       "      <td>Male</td>\n",
       "      <td>65-74</td>\n",
       "    </tr>\n",
       "    <tr>\n",
       "      <th>2</th>\n",
       "      <td>7.0</td>\n",
       "      <td>8.0</td>\n",
       "      <td>3.0</td>\n",
       "      <td>4.0</td>\n",
       "      <td>5.0</td>\n",
       "      <td>no</td>\n",
       "      <td>$50,000 to $74,999</td>\n",
       "      <td>no</td>\n",
       "      <td>Female</td>\n",
       "      <td>25-34</td>\n",
       "    </tr>\n",
       "    <tr>\n",
       "      <th>3</th>\n",
       "      <td>3.0</td>\n",
       "      <td>8.0</td>\n",
       "      <td>8.0</td>\n",
       "      <td>1.0</td>\n",
       "      <td>4.0</td>\n",
       "      <td>no</td>\n",
       "      <td>$50,000 to $74,999</td>\n",
       "      <td>no</td>\n",
       "      <td>Female</td>\n",
       "      <td>35-44</td>\n",
       "    </tr>\n",
       "    <tr>\n",
       "      <th>4</th>\n",
       "      <td>5.0</td>\n",
       "      <td>7.0</td>\n",
       "      <td>7.0</td>\n",
       "      <td>4.0</td>\n",
       "      <td>7.0</td>\n",
       "      <td>yes</td>\n",
       "      <td>$100,000 to $149,999</td>\n",
       "      <td>no</td>\n",
       "      <td>Male</td>\n",
       "      <td>55-64</td>\n",
       "    </tr>\n",
       "  </tbody>\n",
       "</table>\n",
       "</div>"
      ],
      "text/plain": [
       "   Life satisfaction  Neighborhood satisfaction  Housing satisfaction  \\\n",
       "0                9.0                        9.0                   9.0   \n",
       "1                8.0                        7.0                   6.0   \n",
       "2                7.0                        8.0                   3.0   \n",
       "3                3.0                        8.0                   8.0   \n",
       "4                5.0                        7.0                   7.0   \n",
       "\n",
       "   Community events availability  Sense of security  \\\n",
       "0                            5.0                9.0   \n",
       "1                            4.0                6.0   \n",
       "2                            4.0                5.0   \n",
       "3                            1.0                4.0   \n",
       "4                            4.0                7.0   \n",
       "\n",
       "  Living with children under 18 Annual household income Disability  Gender  \\\n",
       "0                            no      $75,000 to $99,999         no  Female   \n",
       "1                            no      $75,000 to $99,999        yes    Male   \n",
       "2                            no      $50,000 to $74,999         no  Female   \n",
       "3                            no      $50,000 to $74,999         no  Female   \n",
       "4                           yes    $100,000 to $149,999         no    Male   \n",
       "\n",
       "     Age  \n",
       "0  55-64  \n",
       "1  65-74  \n",
       "2  25-34  \n",
       "3  35-44  \n",
       "4  55-64  "
      ]
     },
     "execution_count": 60,
     "metadata": {},
     "output_type": "execute_result"
    }
   ],
   "source": [
    "# Dropping all rows with missing values\n",
    "clean_df = trimed_df.dropna()\n",
    "\n",
    "# Resetting indexes\n",
    "clean_df = clean_df.reset_index(drop = True)\n",
    "\n",
    "# Displaying informations about database\n",
    "clean_df.info()\n",
    "clean_df.head()"
   ]
  },
  {
   "cell_type": "markdown",
   "metadata": {},
   "source": [
    "### Data transformation"
   ]
  },
  {
   "cell_type": "markdown",
   "metadata": {},
   "source": [
    "For future analysis, conversion of \"Annual household income\" data to numeric values was required. To do this, Midpoint Coding was used, which involves assigning each category an average value from the range they represent."
   ]
  },
  {
   "cell_type": "code",
   "execution_count": 61,
   "metadata": {},
   "outputs": [
    {
     "name": "stdout",
     "output_type": "stream",
     "text": [
      "Unique 'Annual household income' values before coding:\n",
      "['$75,000 to $99,999' '$50,000 to $74,999' '$100,000 to $149,999'\n",
      " '$150,000 to $199,999' '$200,000 or more' 'Less than $10,000'\n",
      " '$25,000 to $49,999' '$10,000 to $24,999']\n",
      "\n",
      "Unique 'Annual household income' values after coding:\n",
      "[ 87499.5  62499.5 124999.5 174999.5 210000.    5000.   37499.5  17499.5]\n"
     ]
    }
   ],
   "source": [
    "print(\"Unique 'Annual household income' values before coding:\\n{}\".format(clean_df['Annual household income'].unique()))\n",
    "\n",
    "# Mapping dictionary \n",
    "income_map = {\"Less than $10,000\" : 5000.0,\n",
    "              \"$10,000 to $24,999\" : 17499.5,\n",
    "              \"$25,000 to $49,999\" : 37499.5,\n",
    "              \"$50,000 to $74,999\" : 62499.5,\n",
    "              \"$75,000 to $99,999\" : 87499.5,\n",
    "              \"$100,000 to $149,999\" : 124999.5,\n",
    "              \"$150,000 to $199,999\" : 174999.5,\n",
    "              \"$200,000 or more\" : 210000.0}\n",
    "\n",
    "# Replacing categories with mean value of range which they represented\n",
    "clean_df['Annual household income'].replace(to_replace = income_map, inplace = True)\n",
    "\n",
    "print(\"\\nUnique 'Annual household income' values after coding:\\n{}\".format(clean_df['Annual household income'].unique()))"
   ]
  },
  {
   "cell_type": "markdown",
   "metadata": {},
   "source": [
    "Unlike previous case - features \"Living with children under 18\" and \"Disability\" are nominal (do not have any order). Therefore,  One Hot Encoding was used to mapp each category with a binary variable containing either 0 or 1."
   ]
  },
  {
   "cell_type": "code",
   "execution_count": 62,
   "metadata": {},
   "outputs": [
    {
     "name": "stdout",
     "output_type": "stream",
     "text": [
      "Unique 'Living with children under 18' values before coding:\n",
      "['no' 'yes']\n",
      "\n",
      "Unique 'Living with children under 18' values after coding:\n",
      "[0 1]\n",
      "\n",
      "Unique 'Disability' values before coding:\n",
      "['no' 'yes']\n",
      "\n",
      "Unique 'Is disabled' values after coding:\n",
      "[0 1]\n"
     ]
    }
   ],
   "source": [
    "# 'Living with children under 18' column encoding\n",
    "living_with_children_enc = pd.get_dummies(data = clean_df['Living with children under 18'], drop_first=True)\n",
    "living_with_children_enc.rename(columns = {'yes' : 'Living with children under 18'}, inplace=True)\n",
    "\n",
    "print(\"Unique 'Living with children under 18' values before coding:\\n{}\".format(clean_df['Living with children under 18'].unique()))\n",
    "clean_df = clean_df.drop('Living with children under 18', axis=1)\n",
    "clean_df = pd.concat([clean_df, living_with_children_enc], axis=1)\n",
    "print(\"\\nUnique 'Living with children under 18' values after coding:\\n{}\".format(clean_df['Living with children under 18'].unique()))\n",
    "\n",
    "# 'Disability' column encoding\n",
    "disability_enc = pd.get_dummies(data = clean_df['Disability'], drop_first=True)\n",
    "disability_enc.rename(columns = {'yes' : 'Is disabled'}, inplace=True)\n",
    "\n",
    "print(\"\\nUnique 'Disability' values before coding:\\n{}\".format(clean_df['Disability'].unique()))\n",
    "clean_df = clean_df.drop('Disability', axis=1)\n",
    "clean_df = pd.concat([clean_df, disability_enc], axis=1)\n",
    "print(\"\\nUnique 'Is disabled' values after coding:\\n{}\".format(clean_df['Is disabled'].unique()))"
   ]
  },
  {
   "cell_type": "markdown",
   "metadata": {},
   "source": [
    "For last 2 ordered cetegorical features \"Age\" and \"Gender\", Ordinal Encoding was used."
   ]
  },
  {
   "cell_type": "code",
   "execution_count": 63,
   "metadata": {},
   "outputs": [
    {
     "name": "stdout",
     "output_type": "stream",
     "text": [
      "\n",
      "Unique 'Age' values before coding:\n",
      "['55-64' '65-74' '25-34' '35-44' '18-24' '75+' '45-54' '17 or younger']\n",
      "\n",
      "Unique 'Age' values after coding:\n",
      "[6 7 3 4 2 8 5 1]\n",
      "\n",
      "Unique 'Gender' values before coding:\n",
      "['Female' 'Male' 'Multiple people' 'Nonbinary']\n",
      "\n",
      "Unique 'Gender' values after coding:\n",
      "[1 2 3 4]\n"
     ]
    }
   ],
   "source": [
    "## 'Age' column encoding\n",
    "print(\"\\nUnique 'Age' values before coding:\\n{}\".format(clean_df['Age'].unique()))\n",
    "\n",
    "# Mapping dictionary \n",
    "age_map = {\"17 or younger\" : 1,\n",
    "           \"18-24\" : 2,\n",
    "           \"25-34\" : 3,\n",
    "           \"35-44\" : 4,\n",
    "           \"45-54\" : 5,\n",
    "           \"55-64\" : 6,\n",
    "           \"65-74\" : 7,\n",
    "           \"75+\" : 8}\n",
    "\n",
    "# Replacing categories with ordinal encdoded values\n",
    "clean_df['Age'].replace(to_replace = age_map, inplace = True)\n",
    "\n",
    "print(\"\\nUnique 'Age' values after coding:\\n{}\".format(clean_df['Age'].unique()))\n",
    "\n",
    "\n",
    "## 'Gender' column encoding\n",
    "print(\"\\nUnique 'Gender' values before coding:\\n{}\".format(clean_df['Gender'].unique()))\n",
    "\n",
    "# Mapping dictionary \n",
    "gender_map = {\"Female\" : 1,\n",
    "              \"Male\" : 2,\n",
    "              \"Multiple people\" : 3,\n",
    "              \"Nonbinary\" : 4}\n",
    "\n",
    "# Replacing categories with ordinal encdoded values\n",
    "clean_df['Gender'].replace(to_replace = gender_map, inplace = True)\n",
    "\n",
    "print(\"\\nUnique 'Gender' values after coding:\\n{}\".format(clean_df['Gender'].unique()))"
   ]
  },
  {
   "cell_type": "markdown",
   "metadata": {},
   "source": [
    "At the end data types of individual columns have been changed."
   ]
  },
  {
   "cell_type": "code",
   "execution_count": 64,
   "metadata": {},
   "outputs": [
    {
     "data": {
      "text/plain": [
       "Life satisfaction                  int64\n",
       "Neighborhood satisfaction          int64\n",
       "Housing satisfaction               int64\n",
       "Community events availability      int64\n",
       "Sense of security                  int64\n",
       "Annual household income          float64\n",
       "Gender                             int64\n",
       "Age                                int64\n",
       "Living with children under 18      uint8\n",
       "Is disabled                        uint8\n",
       "dtype: object"
      ]
     },
     "metadata": {},
     "output_type": "display_data"
    }
   ],
   "source": [
    "# Dictionary for specific columns convertion\n",
    "convert_dict = {\"Life satisfaction\": int,\n",
    "                \"Neighborhood satisfaction\": int,\n",
    "                \"Housing satisfaction\" : int,\n",
    "                \"Community events availability\" : int,\n",
    "                \"Sense of security\" : int}\n",
    "\n",
    "# Changing column types using dictionary\n",
    "final_df = clean_df.astype(convert_dict)\n",
    "\n",
    "# Displaying informations about database\n",
    "display(final_df.dtypes)"
   ]
  },
  {
   "cell_type": "markdown",
   "metadata": {},
   "source": [
    "## Summary"
   ]
  },
  {
   "cell_type": "markdown",
   "metadata": {},
   "source": [
    "In the end, data preprocessing resulted in a set with 10 columns and 1049 entries. In order to achieve this, a number of operations were necessary, such as reducing the dimensions of the database, getting rid of rows/columns with missing values, and transforming some features into other data types. "
   ]
  },
  {
   "cell_type": "code",
   "execution_count": 65,
   "metadata": {},
   "outputs": [
    {
     "name": "stdout",
     "output_type": "stream",
     "text": [
      "<class 'pandas.core.frame.DataFrame'>\n",
      "RangeIndex: 1049 entries, 0 to 1048\n",
      "Data columns (total 10 columns):\n",
      " #   Column                         Non-Null Count  Dtype  \n",
      "---  ------                         --------------  -----  \n",
      " 0   Life satisfaction              1049 non-null   int64  \n",
      " 1   Neighborhood satisfaction      1049 non-null   int64  \n",
      " 2   Housing satisfaction           1049 non-null   int64  \n",
      " 3   Community events availability  1049 non-null   int64  \n",
      " 4   Sense of security              1049 non-null   int64  \n",
      " 5   Annual household income        1049 non-null   float64\n",
      " 6   Gender                         1049 non-null   int64  \n",
      " 7   Age                            1049 non-null   int64  \n",
      " 8   Living with children under 18  1049 non-null   uint8  \n",
      " 9   Is disabled                    1049 non-null   uint8  \n",
      "dtypes: float64(1), int64(7), uint8(2)\n",
      "memory usage: 67.7 KB\n"
     ]
    },
    {
     "data": {
      "image/png": "[encoded data removed]",
      "text/plain": [
       "<Figure size 432x288 with 1 Axes>"
      ]
     },
     "metadata": {
      "needs_background": "light"
     },
     "output_type": "display_data"
    },
    {
     "data": {
      "image/png": "[encoded data removed]",
      "text/plain": [
       "<Figure size 432x288 with 1 Axes>"
      ]
     },
     "metadata": {
      "needs_background": "light"
     },
     "output_type": "display_data"
    },
    {
     "data": {
      "image/png": "[encoded data removed]",
      "text/plain": [
       "<Figure size 432x288 with 1 Axes>"
      ]
     },
     "metadata": {
      "needs_background": "light"
     },
     "output_type": "display_data"
    },
    {
     "data": {
      "image/png": "[encoded data removed]",
      "text/plain": [
       "<Figure size 432x288 with 1 Axes>"
      ]
     },
     "metadata": {
      "needs_background": "light"
     },
     "output_type": "display_data"
    },
    {
     "data": {
      "image/png": "[encoded data removed]",
      "text/plain": [
       "<Figure size 432x288 with 1 Axes>"
      ]
     },
     "metadata": {
      "needs_background": "light"
     },
     "output_type": "display_data"
    },
    {
     "data": {
      "image/png": "[encoded data removed]",
      "text/plain": [
       "<Figure size 432x288 with 1 Axes>"
      ]
     },
     "metadata": {
      "needs_background": "light"
     },
     "output_type": "display_data"
    },
    {
     "data": {
      "image/png": "[encoded data removed]",
      "text/plain": [
       "<Figure size 432x288 with 1 Axes>"
      ]
     },
     "metadata": {
      "needs_background": "light"
     },
     "output_type": "display_data"
    },
    {
     "data": {
      "image/png": "[encoded data removed]",
      "text/plain": [
       "<Figure size 432x288 with 1 Axes>"
      ]
     },
     "metadata": {
      "needs_background": "light"
     },
     "output_type": "display_data"
    },
    {
     "data": {
      "image/png": "[encoded data removed]",
      "text/plain": [
       "<Figure size 432x288 with 1 Axes>"
      ]
     },
     "metadata": {
      "needs_background": "light"
     },
     "output_type": "display_data"
    },
    {
     "data": {
      "image/png": "[encoded data removed]",
      "text/plain": [
       "<Figure size 432x288 with 1 Axes>"
      ]
     },
     "metadata": {
      "needs_background": "light"
     },
     "output_type": "display_data"
    }
   ],
   "source": [
    "# Displaying informations about database\n",
    "final_df.info()\n",
    "\n",
    "# Iterate over columns of dataFrame and plot histogram for each of it\n",
    "for (colname, colval) in final_df.iteritems():\n",
    "    plt.figure()\n",
    "    plt.hist(colval.values, align='left', color=np.random.choice(['lime', 'cyan', 'red']), edgecolor=\"black\", zorder=3)\n",
    "    plt.title(colname, fontweight=\"bold\")\n",
    "    plt.grid(zorder=0)\n",
    "    plt.show()"
   ]
  },
  {
   "cell_type": "code",
   "execution_count": 66,
   "metadata": {},
   "outputs": [],
   "source": [
    "# Saving the newly created dataset to a .scv file\n",
    "# final_df.to_csv(path_or_buf = 'data/Somerville_Happiness_processed.csv', sep = ',', index = False)"
   ]
  }
 ],
 "metadata": {
  "kernelspec": {
   "display_name": "Python 3",
   "language": "python",
   "name": "python3"
  },
  "language_info": {
   "codemirror_mode": {
    "name": "ipython",
    "version": 3
   },
   "file_extension": ".py",
   "mimetype": "text/x-python",
   "name": "python",
   "nbconvert_exporter": "python",
   "pygments_lexer": "ipython3",
   "version": "3.9.11"
  },
  "orig_nbformat": 4
 },
 "nbformat": 4,
 "nbformat_minor": 2
}
