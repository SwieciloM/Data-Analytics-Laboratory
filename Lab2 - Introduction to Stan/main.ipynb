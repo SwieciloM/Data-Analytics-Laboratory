{
 "cells": [
  {
   "cell_type": "code",
   "execution_count": 20,
   "metadata": {},
   "outputs": [],
   "source": [
    "from cmdstanpy import CmdStanModel\n",
    "import pandas as pd\n",
    "import arviz as az \n",
    "import numpy as np\n",
    "import matplotlib.pyplot as plt\n",
    "import scipy.stats as stats\n",
    "\n",
    "# Global variables\n",
    "name = \"Michał\"\n",
    "surname = \"Święciło\"\n",
    "F = len(name)\n",
    "L = len(surname)"
   ]
  },
  {
   "cell_type": "markdown",
   "metadata": {},
   "source": [
    "## Excercise 1 -  Generated Quantities Block"
   ]
  },
  {
   "cell_type": "code",
   "execution_count": 21,
   "metadata": {},
   "outputs": [
    {
     "name": "stderr",
     "output_type": "stream",
     "text": [
      "INFO:cmdstanpy:found newer exe file, not recompiling\n"
     ]
    }
   ],
   "source": [
    "gen_quant = CmdStanModel(stan_file='code_1.stan')"
   ]
  },
  {
   "cell_type": "code",
   "execution_count": 48,
   "metadata": {},
   "outputs": [
    {
     "name": "stderr",
     "output_type": "stream",
     "text": [
      "INFO:cmdstanpy:CmdStan start processing\n",
      "chain 1 |\u001b[34m██████████\u001b[0m| 00:00 Sampling completed"
     ]
    },
    {
     "name": "stdout",
     "output_type": "stream",
     "text": [
      "                                                                                "
     ]
    },
    {
     "name": "stderr",
     "output_type": "stream",
     "text": [
      "\n",
      "INFO:cmdstanpy:CmdStan done processing.\n"
     ]
    },
    {
     "name": "stdout",
     "output_type": "stream",
     "text": [
      "\n"
     ]
    },
    {
     "data": {
      "text/html": [
       "<div>\n",
       "<style scoped>\n",
       "    .dataframe tbody tr th:only-of-type {\n",
       "        vertical-align: middle;\n",
       "    }\n",
       "\n",
       "    .dataframe tbody tr th {\n",
       "        vertical-align: top;\n",
       "    }\n",
       "\n",
       "    .dataframe thead th {\n",
       "        text-align: right;\n",
       "    }\n",
       "</style>\n",
       "<table border=\"1\" class=\"dataframe\">\n",
       "  <thead>\n",
       "    <tr style=\"text-align: right;\">\n",
       "      <th></th>\n",
       "      <th>lp__</th>\n",
       "      <th>accept_stat__</th>\n",
       "      <th>lambda</th>\n",
       "      <th>y_sim[1]</th>\n",
       "      <th>y_sim[2]</th>\n",
       "      <th>y_sim[3]</th>\n",
       "      <th>y_sim[4]</th>\n",
       "      <th>y_sim[5]</th>\n",
       "      <th>y_sim[6]</th>\n",
       "    </tr>\n",
       "  </thead>\n",
       "  <tbody>\n",
       "    <tr>\n",
       "      <th>0</th>\n",
       "      <td>0.0</td>\n",
       "      <td>0.0</td>\n",
       "      <td>25.7265</td>\n",
       "      <td>34.0</td>\n",
       "      <td>31.0</td>\n",
       "      <td>22.0</td>\n",
       "      <td>35.0</td>\n",
       "      <td>25.0</td>\n",
       "      <td>22.0</td>\n",
       "    </tr>\n",
       "    <tr>\n",
       "      <th>1</th>\n",
       "      <td>0.0</td>\n",
       "      <td>0.0</td>\n",
       "      <td>44.0499</td>\n",
       "      <td>35.0</td>\n",
       "      <td>43.0</td>\n",
       "      <td>44.0</td>\n",
       "      <td>39.0</td>\n",
       "      <td>56.0</td>\n",
       "      <td>40.0</td>\n",
       "    </tr>\n",
       "    <tr>\n",
       "      <th>2</th>\n",
       "      <td>0.0</td>\n",
       "      <td>0.0</td>\n",
       "      <td>107.2940</td>\n",
       "      <td>97.0</td>\n",
       "      <td>122.0</td>\n",
       "      <td>103.0</td>\n",
       "      <td>110.0</td>\n",
       "      <td>110.0</td>\n",
       "      <td>91.0</td>\n",
       "    </tr>\n",
       "    <tr>\n",
       "      <th>3</th>\n",
       "      <td>0.0</td>\n",
       "      <td>0.0</td>\n",
       "      <td>24.5840</td>\n",
       "      <td>30.0</td>\n",
       "      <td>23.0</td>\n",
       "      <td>18.0</td>\n",
       "      <td>28.0</td>\n",
       "      <td>23.0</td>\n",
       "      <td>25.0</td>\n",
       "    </tr>\n",
       "    <tr>\n",
       "      <th>4</th>\n",
       "      <td>0.0</td>\n",
       "      <td>0.0</td>\n",
       "      <td>188.4700</td>\n",
       "      <td>176.0</td>\n",
       "      <td>186.0</td>\n",
       "      <td>181.0</td>\n",
       "      <td>173.0</td>\n",
       "      <td>185.0</td>\n",
       "      <td>191.0</td>\n",
       "    </tr>\n",
       "    <tr>\n",
       "      <th>...</th>\n",
       "      <td>...</td>\n",
       "      <td>...</td>\n",
       "      <td>...</td>\n",
       "      <td>...</td>\n",
       "      <td>...</td>\n",
       "      <td>...</td>\n",
       "      <td>...</td>\n",
       "      <td>...</td>\n",
       "      <td>...</td>\n",
       "    </tr>\n",
       "    <tr>\n",
       "      <th>995</th>\n",
       "      <td>0.0</td>\n",
       "      <td>0.0</td>\n",
       "      <td>177.6550</td>\n",
       "      <td>186.0</td>\n",
       "      <td>180.0</td>\n",
       "      <td>186.0</td>\n",
       "      <td>174.0</td>\n",
       "      <td>187.0</td>\n",
       "      <td>182.0</td>\n",
       "    </tr>\n",
       "    <tr>\n",
       "      <th>996</th>\n",
       "      <td>0.0</td>\n",
       "      <td>0.0</td>\n",
       "      <td>146.7830</td>\n",
       "      <td>137.0</td>\n",
       "      <td>155.0</td>\n",
       "      <td>139.0</td>\n",
       "      <td>146.0</td>\n",
       "      <td>145.0</td>\n",
       "      <td>149.0</td>\n",
       "    </tr>\n",
       "    <tr>\n",
       "      <th>997</th>\n",
       "      <td>0.0</td>\n",
       "      <td>0.0</td>\n",
       "      <td>70.6475</td>\n",
       "      <td>71.0</td>\n",
       "      <td>59.0</td>\n",
       "      <td>80.0</td>\n",
       "      <td>65.0</td>\n",
       "      <td>86.0</td>\n",
       "      <td>71.0</td>\n",
       "    </tr>\n",
       "    <tr>\n",
       "      <th>998</th>\n",
       "      <td>0.0</td>\n",
       "      <td>0.0</td>\n",
       "      <td>126.6420</td>\n",
       "      <td>140.0</td>\n",
       "      <td>119.0</td>\n",
       "      <td>123.0</td>\n",
       "      <td>116.0</td>\n",
       "      <td>128.0</td>\n",
       "      <td>129.0</td>\n",
       "    </tr>\n",
       "    <tr>\n",
       "      <th>999</th>\n",
       "      <td>0.0</td>\n",
       "      <td>0.0</td>\n",
       "      <td>26.8700</td>\n",
       "      <td>32.0</td>\n",
       "      <td>31.0</td>\n",
       "      <td>30.0</td>\n",
       "      <td>28.0</td>\n",
       "      <td>29.0</td>\n",
       "      <td>28.0</td>\n",
       "    </tr>\n",
       "  </tbody>\n",
       "</table>\n",
       "<p>1000 rows × 9 columns</p>\n",
       "</div>"
      ],
      "text/plain": [
       "     lp__  accept_stat__    lambda  y_sim[1]  y_sim[2]  y_sim[3]  y_sim[4]  \\\n",
       "0     0.0            0.0   25.7265      34.0      31.0      22.0      35.0   \n",
       "1     0.0            0.0   44.0499      35.0      43.0      44.0      39.0   \n",
       "2     0.0            0.0  107.2940      97.0     122.0     103.0     110.0   \n",
       "3     0.0            0.0   24.5840      30.0      23.0      18.0      28.0   \n",
       "4     0.0            0.0  188.4700     176.0     186.0     181.0     173.0   \n",
       "..    ...            ...       ...       ...       ...       ...       ...   \n",
       "995   0.0            0.0  177.6550     186.0     180.0     186.0     174.0   \n",
       "996   0.0            0.0  146.7830     137.0     155.0     139.0     146.0   \n",
       "997   0.0            0.0   70.6475      71.0      59.0      80.0      65.0   \n",
       "998   0.0            0.0  126.6420     140.0     119.0     123.0     116.0   \n",
       "999   0.0            0.0   26.8700      32.0      31.0      30.0      28.0   \n",
       "\n",
       "     y_sim[5]  y_sim[6]  \n",
       "0        25.0      22.0  \n",
       "1        56.0      40.0  \n",
       "2       110.0      91.0  \n",
       "3        23.0      25.0  \n",
       "4       185.0     191.0  \n",
       "..        ...       ...  \n",
       "995     187.0     182.0  \n",
       "996     145.0     149.0  \n",
       "997      86.0      71.0  \n",
       "998     128.0     129.0  \n",
       "999      29.0      28.0  \n",
       "\n",
       "[1000 rows x 9 columns]"
      ]
     },
     "metadata": {},
     "output_type": "display_data"
    },
    {
     "data": {
      "image/png": "[encoded data removed]",
      "text/plain": [
       "<Figure size 1512x360 with 7 Axes>"
      ]
     },
     "metadata": {
      "needs_background": "light"
     },
     "output_type": "display_data"
    }
   ],
   "source": [
    "# Compilation of code_1.stan using M=F\n",
    "samples = gen_quant.sample(data={'M':F}, \n",
    "                            fixed_param=True, \n",
    "                            iter_sampling=1000, \n",
    "                            iter_warmup=0, \n",
    "                            chains = 1)\n",
    "\n",
    "# Creation of pandas dataframe from resulting draws\n",
    "df = samples.draws_pd()\n",
    "display(df)\n",
    "\n",
    "# Histogram for each of y_sim and lambda\n",
    "fig, axs = plt.subplots(nrows=1, ncols=F+1, figsize=((F+1)*3, 5))\n",
    "fig.suptitle('Histograms of poisson distribution (y_sim) & folded normal distribution (lambda)', fontweight=\"bold\")\n",
    "\n",
    "for i, data_title in enumerate(list(df.columns)[2:]):\n",
    "    axs[i].hist(df[data_title], bins='auto', color='limegreen', edgecolor=\"black\", zorder=3)\n",
    "    axs[i].set_title(data_title)\n",
    "    axs[i].grid(zorder=0)\n",
    "\n",
    "plt.show()"
   ]
  },
  {
   "cell_type": "markdown",
   "metadata": {},
   "source": [
    "## Excercise 2 - Constraints on the data "
   ]
  },
  {
   "cell_type": "code",
   "execution_count": 62,
   "metadata": {},
   "outputs": [
    {
     "name": "stderr",
     "output_type": "stream",
     "text": [
      "INFO:cmdstanpy:found newer exe file, not recompiling\n",
      "INFO:cmdstanpy:CmdStan start processing\n",
      "chain 1 |\u001b[33m          \u001b[0m| 00:00 Status\n",
      "\u001b[A\n",
      "\n",
      "\u001b[A\u001b[A\n",
      "\n",
      "\u001b[A\u001b[A\n",
      "chain 1 |\u001b[33m██████████\u001b[0m| 00:00 Sampling completed\n",
      "chain 2 |\u001b[34m██████████\u001b[0m| 00:00 Sampling completed\n",
      "chain 3 |\u001b[34m██████████\u001b[0m| 00:00 Sampling completed\n",
      "chain 4 |\u001b[34m██████████\u001b[0m| 00:00 Sampling completed"
     ]
    },
    {
     "name": "stdout",
     "output_type": "stream",
     "text": [
      "                                                                                                                                                                "
     ]
    },
    {
     "name": "stderr",
     "output_type": "stream",
     "text": [
      "\n"
     ]
    },
    {
     "name": "stdout",
     "output_type": "stream",
     "text": [
      "                                                                                                                                                                "
     ]
    },
    {
     "name": "stderr",
     "output_type": "stream",
     "text": [
      "INFO:cmdstanpy:CmdStan done processing.\n"
     ]
    },
    {
     "name": "stdout",
     "output_type": "stream",
     "text": [
      "\n"
     ]
    },
    {
     "data": {
      "text/html": [
       "<div>\n",
       "<style scoped>\n",
       "    .dataframe tbody tr th:only-of-type {\n",
       "        vertical-align: middle;\n",
       "    }\n",
       "\n",
       "    .dataframe tbody tr th {\n",
       "        vertical-align: top;\n",
       "    }\n",
       "\n",
       "    .dataframe thead th {\n",
       "        text-align: right;\n",
       "    }\n",
       "</style>\n",
       "<table border=\"1\" class=\"dataframe\">\n",
       "  <thead>\n",
       "    <tr style=\"text-align: right;\">\n",
       "      <th></th>\n",
       "      <th>lp__</th>\n",
       "      <th>accept_stat__</th>\n",
       "      <th>stepsize__</th>\n",
       "      <th>treedepth__</th>\n",
       "      <th>n_leapfrog__</th>\n",
       "      <th>divergent__</th>\n",
       "      <th>energy__</th>\n",
       "      <th>theta</th>\n",
       "    </tr>\n",
       "  </thead>\n",
       "  <tbody>\n",
       "    <tr>\n",
       "      <th>0</th>\n",
       "      <td>-2.92677</td>\n",
       "      <td>0.956638</td>\n",
       "      <td>0.922863</td>\n",
       "      <td>1.0</td>\n",
       "      <td>3.0</td>\n",
       "      <td>0.0</td>\n",
       "      <td>3.03474</td>\n",
       "      <td>0.636191</td>\n",
       "    </tr>\n",
       "    <tr>\n",
       "      <th>1</th>\n",
       "      <td>-3.65749</td>\n",
       "      <td>0.921997</td>\n",
       "      <td>0.922863</td>\n",
       "      <td>2.0</td>\n",
       "      <td>3.0</td>\n",
       "      <td>0.0</td>\n",
       "      <td>3.66709</td>\n",
       "      <td>0.201027</td>\n",
       "    </tr>\n",
       "    <tr>\n",
       "      <th>2</th>\n",
       "      <td>-4.57459</td>\n",
       "      <td>0.956458</td>\n",
       "      <td>0.922863</td>\n",
       "      <td>2.0</td>\n",
       "      <td>3.0</td>\n",
       "      <td>0.0</td>\n",
       "      <td>4.59126</td>\n",
       "      <td>0.114696</td>\n",
       "    </tr>\n",
       "    <tr>\n",
       "      <th>3</th>\n",
       "      <td>-4.37912</td>\n",
       "      <td>1.000000</td>\n",
       "      <td>0.922863</td>\n",
       "      <td>1.0</td>\n",
       "      <td>1.0</td>\n",
       "      <td>0.0</td>\n",
       "      <td>4.78928</td>\n",
       "      <td>0.128471</td>\n",
       "    </tr>\n",
       "    <tr>\n",
       "      <th>4</th>\n",
       "      <td>-5.51623</td>\n",
       "      <td>0.890577</td>\n",
       "      <td>0.922863</td>\n",
       "      <td>1.0</td>\n",
       "      <td>1.0</td>\n",
       "      <td>0.0</td>\n",
       "      <td>5.54601</td>\n",
       "      <td>0.068041</td>\n",
       "    </tr>\n",
       "    <tr>\n",
       "      <th>...</th>\n",
       "      <td>...</td>\n",
       "      <td>...</td>\n",
       "      <td>...</td>\n",
       "      <td>...</td>\n",
       "      <td>...</td>\n",
       "      <td>...</td>\n",
       "      <td>...</td>\n",
       "      <td>...</td>\n",
       "    </tr>\n",
       "    <tr>\n",
       "      <th>3995</th>\n",
       "      <td>-2.96219</td>\n",
       "      <td>0.890027</td>\n",
       "      <td>0.951052</td>\n",
       "      <td>2.0</td>\n",
       "      <td>3.0</td>\n",
       "      <td>0.0</td>\n",
       "      <td>3.43420</td>\n",
       "      <td>0.650373</td>\n",
       "    </tr>\n",
       "    <tr>\n",
       "      <th>3996</th>\n",
       "      <td>-3.15599</td>\n",
       "      <td>0.848671</td>\n",
       "      <td>0.951052</td>\n",
       "      <td>2.0</td>\n",
       "      <td>3.0</td>\n",
       "      <td>0.0</td>\n",
       "      <td>3.84024</td>\n",
       "      <td>0.708833</td>\n",
       "    </tr>\n",
       "    <tr>\n",
       "      <th>3997</th>\n",
       "      <td>-2.94168</td>\n",
       "      <td>1.000000</td>\n",
       "      <td>0.951052</td>\n",
       "      <td>1.0</td>\n",
       "      <td>1.0</td>\n",
       "      <td>0.0</td>\n",
       "      <td>3.11729</td>\n",
       "      <td>0.642366</td>\n",
       "    </tr>\n",
       "    <tr>\n",
       "      <th>3998</th>\n",
       "      <td>-3.79658</td>\n",
       "      <td>0.809525</td>\n",
       "      <td>0.951052</td>\n",
       "      <td>1.0</td>\n",
       "      <td>3.0</td>\n",
       "      <td>0.0</td>\n",
       "      <td>3.79752</td>\n",
       "      <td>0.816505</td>\n",
       "    </tr>\n",
       "    <tr>\n",
       "      <th>3999</th>\n",
       "      <td>-3.37932</td>\n",
       "      <td>1.000000</td>\n",
       "      <td>0.951052</td>\n",
       "      <td>1.0</td>\n",
       "      <td>1.0</td>\n",
       "      <td>0.0</td>\n",
       "      <td>3.79095</td>\n",
       "      <td>0.755769</td>\n",
       "    </tr>\n",
       "  </tbody>\n",
       "</table>\n",
       "<p>4000 rows × 8 columns</p>\n",
       "</div>"
      ],
      "text/plain": [
       "         lp__  accept_stat__  stepsize__  treedepth__  n_leapfrog__  \\\n",
       "0    -2.92677       0.956638    0.922863          1.0           3.0   \n",
       "1    -3.65749       0.921997    0.922863          2.0           3.0   \n",
       "2    -4.57459       0.956458    0.922863          2.0           3.0   \n",
       "3    -4.37912       1.000000    0.922863          1.0           1.0   \n",
       "4    -5.51623       0.890577    0.922863          1.0           1.0   \n",
       "...       ...            ...         ...          ...           ...   \n",
       "3995 -2.96219       0.890027    0.951052          2.0           3.0   \n",
       "3996 -3.15599       0.848671    0.951052          2.0           3.0   \n",
       "3997 -2.94168       1.000000    0.951052          1.0           1.0   \n",
       "3998 -3.79658       0.809525    0.951052          1.0           3.0   \n",
       "3999 -3.37932       1.000000    0.951052          1.0           1.0   \n",
       "\n",
       "      divergent__  energy__     theta  \n",
       "0             0.0   3.03474  0.636191  \n",
       "1             0.0   3.66709  0.201027  \n",
       "2             0.0   4.59126  0.114696  \n",
       "3             0.0   4.78928  0.128471  \n",
       "4             0.0   5.54601  0.068041  \n",
       "...           ...       ...       ...  \n",
       "3995          0.0   3.43420  0.650373  \n",
       "3996          0.0   3.84024  0.708833  \n",
       "3997          0.0   3.11729  0.642366  \n",
       "3998          0.0   3.79752  0.816505  \n",
       "3999          0.0   3.79095  0.755769  \n",
       "\n",
       "[4000 rows x 8 columns]"
      ]
     },
     "metadata": {},
     "output_type": "display_data"
    }
   ],
   "source": [
    "bern1 = CmdStanModel(stan_file='code_2.stan')\n",
    "samp_bern1 = bern1.sample(data={'N':2, 'y':[0,1]})\n",
    "\n",
    "# Creation of pandas dataframe from resulting draws\n",
    "df = samp_bern1.draws_pd()\n",
    "display(df)"
   ]
  },
  {
   "cell_type": "code",
   "execution_count": 69,
   "metadata": {},
   "outputs": [
    {
     "name": "stderr",
     "output_type": "stream",
     "text": [
      "INFO:cmdstanpy:found newer exe file, not recompiling\n",
      "INFO:cmdstanpy:CmdStan start processing\n",
      "chain 1 |\u001b[33m          \u001b[0m| 00:00 Status\n",
      "\u001b[A\n",
      "\n",
      "chain 1 |\u001b[34m███████▎  \u001b[0m| 00:00 Iteration: 1300 / 2000 [ 65%]  (Sampling)\n",
      "chain 1 |\u001b[34m██████████\u001b[0m| 00:00 Sampling completed                       \n",
      "chain 2 |\u001b[34m██████████\u001b[0m| 00:00 Sampling completed                       \n",
      "chain 3 |\u001b[34m██████████\u001b[0m| 00:00 Sampling completed                       \n",
      "\n",
      "\n",
      "chain 4 |\u001b[34m██████████\u001b[0m| 00:00 Sampling completed"
     ]
    },
    {
     "name": "stdout",
     "output_type": "stream",
     "text": [
      "                                                                                                                                                                                                                                                                                                                                "
     ]
    },
    {
     "name": "stderr",
     "output_type": "stream",
     "text": [
      "\n",
      "INFO:cmdstanpy:CmdStan done processing.\n"
     ]
    },
    {
     "name": "stdout",
     "output_type": "stream",
     "text": [
      "\n"
     ]
    },
    {
     "data": {
      "text/html": [
       "<div>\n",
       "<style scoped>\n",
       "    .dataframe tbody tr th:only-of-type {\n",
       "        vertical-align: middle;\n",
       "    }\n",
       "\n",
       "    .dataframe tbody tr th {\n",
       "        vertical-align: top;\n",
       "    }\n",
       "\n",
       "    .dataframe thead th {\n",
       "        text-align: right;\n",
       "    }\n",
       "</style>\n",
       "<table border=\"1\" class=\"dataframe\">\n",
       "  <thead>\n",
       "    <tr style=\"text-align: right;\">\n",
       "      <th></th>\n",
       "      <th>lp__</th>\n",
       "      <th>accept_stat__</th>\n",
       "      <th>stepsize__</th>\n",
       "      <th>treedepth__</th>\n",
       "      <th>n_leapfrog__</th>\n",
       "      <th>divergent__</th>\n",
       "      <th>energy__</th>\n",
       "      <th>theta</th>\n",
       "    </tr>\n",
       "  </thead>\n",
       "  <tbody>\n",
       "    <tr>\n",
       "      <th>0</th>\n",
       "      <td>-2.92677</td>\n",
       "      <td>0.956638</td>\n",
       "      <td>0.922863</td>\n",
       "      <td>1.0</td>\n",
       "      <td>3.0</td>\n",
       "      <td>0.0</td>\n",
       "      <td>3.03474</td>\n",
       "      <td>0.636191</td>\n",
       "    </tr>\n",
       "    <tr>\n",
       "      <th>1</th>\n",
       "      <td>-3.65749</td>\n",
       "      <td>0.921997</td>\n",
       "      <td>0.922863</td>\n",
       "      <td>2.0</td>\n",
       "      <td>3.0</td>\n",
       "      <td>0.0</td>\n",
       "      <td>3.66709</td>\n",
       "      <td>0.201027</td>\n",
       "    </tr>\n",
       "    <tr>\n",
       "      <th>2</th>\n",
       "      <td>-4.57459</td>\n",
       "      <td>0.956458</td>\n",
       "      <td>0.922863</td>\n",
       "      <td>2.0</td>\n",
       "      <td>3.0</td>\n",
       "      <td>0.0</td>\n",
       "      <td>4.59126</td>\n",
       "      <td>0.114696</td>\n",
       "    </tr>\n",
       "    <tr>\n",
       "      <th>3</th>\n",
       "      <td>-4.37912</td>\n",
       "      <td>1.000000</td>\n",
       "      <td>0.922863</td>\n",
       "      <td>1.0</td>\n",
       "      <td>1.0</td>\n",
       "      <td>0.0</td>\n",
       "      <td>4.78928</td>\n",
       "      <td>0.128471</td>\n",
       "    </tr>\n",
       "    <tr>\n",
       "      <th>4</th>\n",
       "      <td>-5.51623</td>\n",
       "      <td>0.890577</td>\n",
       "      <td>0.922863</td>\n",
       "      <td>1.0</td>\n",
       "      <td>1.0</td>\n",
       "      <td>0.0</td>\n",
       "      <td>5.54601</td>\n",
       "      <td>0.068041</td>\n",
       "    </tr>\n",
       "    <tr>\n",
       "      <th>...</th>\n",
       "      <td>...</td>\n",
       "      <td>...</td>\n",
       "      <td>...</td>\n",
       "      <td>...</td>\n",
       "      <td>...</td>\n",
       "      <td>...</td>\n",
       "      <td>...</td>\n",
       "      <td>...</td>\n",
       "    </tr>\n",
       "    <tr>\n",
       "      <th>3995</th>\n",
       "      <td>-2.96219</td>\n",
       "      <td>0.890027</td>\n",
       "      <td>0.951052</td>\n",
       "      <td>2.0</td>\n",
       "      <td>3.0</td>\n",
       "      <td>0.0</td>\n",
       "      <td>3.43420</td>\n",
       "      <td>0.650373</td>\n",
       "    </tr>\n",
       "    <tr>\n",
       "      <th>3996</th>\n",
       "      <td>-3.15599</td>\n",
       "      <td>0.848671</td>\n",
       "      <td>0.951052</td>\n",
       "      <td>2.0</td>\n",
       "      <td>3.0</td>\n",
       "      <td>0.0</td>\n",
       "      <td>3.84024</td>\n",
       "      <td>0.708833</td>\n",
       "    </tr>\n",
       "    <tr>\n",
       "      <th>3997</th>\n",
       "      <td>-2.94168</td>\n",
       "      <td>1.000000</td>\n",
       "      <td>0.951052</td>\n",
       "      <td>1.0</td>\n",
       "      <td>1.0</td>\n",
       "      <td>0.0</td>\n",
       "      <td>3.11729</td>\n",
       "      <td>0.642366</td>\n",
       "    </tr>\n",
       "    <tr>\n",
       "      <th>3998</th>\n",
       "      <td>-3.79658</td>\n",
       "      <td>0.809525</td>\n",
       "      <td>0.951052</td>\n",
       "      <td>1.0</td>\n",
       "      <td>3.0</td>\n",
       "      <td>0.0</td>\n",
       "      <td>3.79752</td>\n",
       "      <td>0.816505</td>\n",
       "    </tr>\n",
       "    <tr>\n",
       "      <th>3999</th>\n",
       "      <td>-3.37932</td>\n",
       "      <td>1.000000</td>\n",
       "      <td>0.951052</td>\n",
       "      <td>1.0</td>\n",
       "      <td>1.0</td>\n",
       "      <td>0.0</td>\n",
       "      <td>3.79095</td>\n",
       "      <td>0.755769</td>\n",
       "    </tr>\n",
       "  </tbody>\n",
       "</table>\n",
       "<p>4000 rows × 8 columns</p>\n",
       "</div>"
      ],
      "text/plain": [
       "         lp__  accept_stat__  stepsize__  treedepth__  n_leapfrog__  \\\n",
       "0    -2.92677       0.956638    0.922863          1.0           3.0   \n",
       "1    -3.65749       0.921997    0.922863          2.0           3.0   \n",
       "2    -4.57459       0.956458    0.922863          2.0           3.0   \n",
       "3    -4.37912       1.000000    0.922863          1.0           1.0   \n",
       "4    -5.51623       0.890577    0.922863          1.0           1.0   \n",
       "...       ...            ...         ...          ...           ...   \n",
       "3995 -2.96219       0.890027    0.951052          2.0           3.0   \n",
       "3996 -3.15599       0.848671    0.951052          2.0           3.0   \n",
       "3997 -2.94168       1.000000    0.951052          1.0           1.0   \n",
       "3998 -3.79658       0.809525    0.951052          1.0           3.0   \n",
       "3999 -3.37932       1.000000    0.951052          1.0           1.0   \n",
       "\n",
       "      divergent__  energy__     theta  \n",
       "0             0.0   3.03474  0.636191  \n",
       "1             0.0   3.66709  0.201027  \n",
       "2             0.0   4.59126  0.114696  \n",
       "3             0.0   4.78928  0.128471  \n",
       "4             0.0   5.54601  0.068041  \n",
       "...           ...       ...       ...  \n",
       "3995          0.0   3.43420  0.650373  \n",
       "3996          0.0   3.84024  0.708833  \n",
       "3997          0.0   3.11729  0.642366  \n",
       "3998          0.0   3.79752  0.816505  \n",
       "3999          0.0   3.79095  0.755769  \n",
       "\n",
       "[4000 rows x 8 columns]"
      ]
     },
     "metadata": {},
     "output_type": "display_data"
    }
   ],
   "source": [
    "bern2 = CmdStanModel(stan_file='code_3.stan')\n",
    "samp_bern2 = bern2.sample(data={'N':2, 'y':[0,1]})\n",
    "\n",
    "# Creation of pandas dataframe from resulting draws\n",
    "df = samp_bern1.draws_pd()\n",
    "display(df)"
   ]
  },
  {
   "cell_type": "markdown",
   "metadata": {},
   "source": [
    "## Excercise 3 - Constraints on parameters"
   ]
  },
  {
   "cell_type": "markdown",
   "metadata": {},
   "source": [
    "### Unconstrained parameters"
   ]
  },
  {
   "cell_type": "code",
   "execution_count": 70,
   "metadata": {},
   "outputs": [
    {
     "name": "stderr",
     "output_type": "stream",
     "text": [
      "INFO:cmdstanpy:found newer exe file, not recompiling\n",
      "INFO:cmdstanpy:CmdStan start processing\n",
      "chain 1 |\u001b[33m          \u001b[0m| 00:00 Status\n",
      "\u001b[A\n",
      "\n",
      "\u001b[A\u001b[A\n",
      "\n",
      "chain 1 |\u001b[33m▏         \u001b[0m| 00:00 Status\n",
      "\u001b[A\n",
      "\n",
      "chain 1 |\u001b[34m█▊        \u001b[0m| 00:00 Iteration: 1001 / 7000 [ 14%]  (Sampling)\n",
      "chain 1 |\u001b[34m██▌       \u001b[0m| 00:00 Iteration: 1500 / 7000 [ 21%]  (Sampling)\n",
      "\n",
      "\u001b[A\u001b[A\n",
      "chain 1 |\u001b[34m██▉       \u001b[0m| 00:00 Iteration: 1800 / 7000 [ 25%]  (Sampling)\n",
      "\u001b[A\n",
      "\n",
      "chain 1 |\u001b[34m███▎      \u001b[0m| 00:01 Iteration: 2100 / 7000 [ 30%]  (Sampling)\n",
      "\u001b[A\n",
      "\n",
      "\u001b[A\u001b[A\n",
      "\n",
      "chain 1 |\u001b[34m███▊      \u001b[0m| 00:01 Iteration: 2400 / 7000 [ 34%]  (Sampling)\n",
      "\u001b[A\n",
      "\n",
      "chain 1 |\u001b[34m████      \u001b[0m| 00:01 Iteration: 2600 / 7000 [ 37%]  (Sampling)\n",
      "\u001b[A\n",
      "\n",
      "chain 1 |\u001b[34m████▎     \u001b[0m| 00:02 Iteration: 2800 / 7000 [ 40%]  (Sampling)\n",
      "\u001b[A\n",
      "\n",
      "chain 1 |\u001b[34m████▌     \u001b[0m| 00:02 Iteration: 3000 / 7000 [ 42%]  (Sampling)\n",
      "\n",
      "\u001b[A\u001b[A\n",
      "chain 1 |\u001b[34m████▋     \u001b[0m| 00:02 Iteration: 3100 / 7000 [ 44%]  (Sampling)\n",
      "\n",
      "\u001b[A\u001b[A\n",
      "chain 1 |\u001b[34m████▊     \u001b[0m| 00:02 Iteration: 3200 / 7000 [ 45%]  (Sampling)\n",
      "\n",
      "\u001b[A\u001b[A\n",
      "chain 1 |\u001b[34m█████▏    \u001b[0m| 00:03 Iteration: 3400 / 7000 [ 48%]  (Sampling)\n",
      "\n",
      "\u001b[A\u001b[A\n",
      "chain 1 |\u001b[34m█████▎    \u001b[0m| 00:03 Iteration: 3500 / 7000 [ 50%]  (Sampling)\n",
      "\n",
      "\u001b[A\u001b[A\n",
      "chain 1 |\u001b[34m█████▍    \u001b[0m| 00:03 Iteration: 3600 / 7000 [ 51%]  (Sampling)\n",
      "\n",
      "chain 1 |\u001b[34m█████▌    \u001b[0m| 00:03 Iteration: 3700 / 7000 [ 52%]  (Sampling)\n",
      "\n",
      "\u001b[A\u001b[A\n",
      "chain 1 |\u001b[34m█████▋    \u001b[0m| 00:03 Iteration: 3800 / 7000 [ 54%]  (Sampling)\n",
      "\u001b[A\n",
      "\n",
      "chain 1 |\u001b[34m█████▊    \u001b[0m| 00:03 Iteration: 3900 / 7000 [ 55%]  (Sampling)\n",
      "\u001b[A\n",
      "\n",
      "chain 1 |\u001b[34m█████▉    \u001b[0m| 00:03 Iteration: 4000 / 7000 [ 57%]  (Sampling)\n",
      "\n",
      "\u001b[A\u001b[A\n",
      "chain 1 |\u001b[34m██████    \u001b[0m| 00:03 Iteration: 4100 / 7000 [ 58%]  (Sampling)\n",
      "\n",
      "\u001b[A\u001b[A\n",
      "chain 1 |\u001b[34m██████▌   \u001b[0m| 00:04 Iteration: 4400 / 7000 [ 62%]  (Sampling)\n",
      "\n",
      "\u001b[A\u001b[A\n",
      "chain 1 |\u001b[34m██████▊   \u001b[0m| 00:04 Iteration: 4600 / 7000 [ 65%]  (Sampling)\n",
      "\n",
      "\u001b[A\u001b[A\n",
      "chain 1 |\u001b[34m███████   \u001b[0m| 00:04 Iteration: 4800 / 7000 [ 68%]  (Sampling)\n",
      "\n",
      "\u001b[A\u001b[A\n",
      "chain 1 |\u001b[34m███████▎  \u001b[0m| 00:04 Iteration: 5000 / 7000 [ 71%]  (Sampling)\n",
      "\u001b[A\n",
      "\n",
      "chain 1 |\u001b[34m███████▋  \u001b[0m| 00:04 Iteration: 5200 / 7000 [ 74%]  (Sampling)\n",
      "\u001b[A\n",
      "\n",
      "chain 1 |\u001b[34m███████▉  \u001b[0m| 00:05 Iteration: 5400 / 7000 [ 77%]  (Sampling)\n",
      "\u001b[A\n",
      "\n",
      "chain 1 |\u001b[34m████████▏ \u001b[0m| 00:05 Iteration: 5600 / 7000 [ 80%]  (Sampling)\n",
      "\u001b[A\n",
      "\n",
      "chain 1 |\u001b[34m████████▎ \u001b[0m| 00:05 Iteration: 5700 / 7000 [ 81%]  (Sampling)\n",
      "\u001b[A\n",
      "\n",
      "chain 1 |\u001b[34m████████▍ \u001b[0m| 00:05 Iteration: 5800 / 7000 [ 82%]  (Sampling)\n",
      "\u001b[A\n",
      "\n",
      "chain 1 |\u001b[34m████████▌ \u001b[0m| 00:05 Iteration: 5900 / 7000 [ 84%]  (Sampling)\n",
      "\u001b[A\n",
      "\n",
      "chain 1 |\u001b[34m████████▉ \u001b[0m| 00:05 Iteration: 6100 / 7000 [ 87%]  (Sampling)\n",
      "\u001b[A\n",
      "\n",
      "\u001b[A\u001b[A\n",
      "chain 1 |\u001b[34m█████████▏\u001b[0m| 00:06 Iteration: 6300 / 7000 [ 90%]  (Sampling)\n",
      "\n",
      "\u001b[A\u001b[A\n",
      "chain 1 |\u001b[34m█████████▍\u001b[0m| 00:06 Iteration: 6500 / 7000 [ 92%]  (Sampling)\n",
      "\n",
      "chain 1 |\u001b[34m█████████▋\u001b[0m| 00:06 Iteration: 6700 / 7000 [ 95%]  (Sampling)\n",
      "\u001b[A\n",
      "\n",
      "\u001b[A\u001b[A\n",
      "\n",
      "\u001b[A\u001b[A\n",
      "chain 1 |\u001b[34m██████████\u001b[0m| 00:06 Iteration: 6900 / 7000 [ 98%]  (Sampling)\n",
      "\n",
      "chain 1 |\u001b[34m██████████\u001b[0m| 00:06 Sampling completed                       \n",
      "chain 2 |\u001b[34m██████████\u001b[0m| 00:06 Sampling completed                       \n",
      "chain 3 |\u001b[34m██████████\u001b[0m| 00:06 Sampling completed                       \n",
      "chain 4 |\u001b[34m██████████\u001b[0m| 00:06 Sampling completed                       "
     ]
    },
    {
     "name": "stdout",
     "output_type": "stream",
     "text": [
      "                                                                                                                                                                                                                                                                                                                                "
     ]
    },
    {
     "name": "stderr",
     "output_type": "stream",
     "text": [
      "\n",
      "INFO:cmdstanpy:CmdStan done processing.\n"
     ]
    },
    {
     "name": "stdout",
     "output_type": "stream",
     "text": [
      "\n"
     ]
    },
    {
     "data": {
      "text/plain": [
       "\"Processing csv files: /home/Lab2 - Introduction to Stan/samples/code_4-20230318195354_1.csv, /home/Lab2 - Introduction to Stan/samples/code_4-20230318195354_2.csv, /home/Lab2 - Introduction to Stan/samples/code_4-20230318195354_3.csv, /home/Lab2 - Introduction to Stan/samples/code_4-20230318195354_4.csv\\n\\nChecking sampler transitions treedepth.\\nTreedepth satisfactory for all transitions.\\n\\nChecking sampler transitions for divergences.\\n9489 of 24000 (39.54%) transitions ended with a divergence.\\nThese divergent transitions indicate that HMC is not fully able to explore the posterior distribution.\\nTry increasing adapt delta closer to 1.\\nIf this doesn't remove all divergences, try to reparameterize the model.\\n\\nChecking E-BFMI - sampler transitions HMC potential energy.\\nE-BFMI satisfactory.\\n\\nEffective sample size satisfactory.\\n\\nSplit R-hat values satisfactory all parameters.\\n\\nProcessing complete.\\n\""
      ]
     },
     "execution_count": 70,
     "metadata": {},
     "output_type": "execute_result"
    }
   ],
   "source": [
    "model_gm1 = CmdStanModel(stan_file='code_4.stan')\n",
    "out_gamma1 = model_gm1.sample(output_dir='samples',iter_sampling=6000,iter_warmup=1000, seed=4838282)\n",
    "out_gamma1.diagnose()\n"
   ]
  },
  {
   "cell_type": "code",
   "execution_count": 71,
   "metadata": {},
   "outputs": [
    {
     "data": {
      "image/png": "[encoded data removed]",
      "text/plain": [
       "<Figure size 432x288 with 1 Axes>"
      ]
     },
     "metadata": {
      "needs_background": "light"
     },
     "output_type": "display_data"
    }
   ],
   "source": [
    "N=500\n",
    "xs = np.linspace(0,8,N)\n",
    "pdfs = stats.gamma.pdf(xs, 1.25, scale = 1 / 1.25) \n",
    "\n",
    "plt.plot(xs, pdfs, linewidth=2)\n",
    "\n",
    "## add histogram of theta samples with 160 bins\n",
    "\n",
    "plt.gca().set_xlabel(\"theta\")\n",
    "plt.gca().set_ylabel(\"Probability Density Function\")\n",
    "plt.show()\n"
   ]
  },
  {
   "cell_type": "markdown",
   "metadata": {},
   "source": [
    "### Constrained parameter"
   ]
  },
  {
   "cell_type": "code",
   "execution_count": 72,
   "metadata": {},
   "outputs": [
    {
     "name": "stderr",
     "output_type": "stream",
     "text": [
      "INFO:cmdstanpy:found newer exe file, not recompiling\n",
      "INFO:cmdstanpy:CmdStan start processing\n",
      "chain 1 |\u001b[33m          \u001b[0m| 00:00 Status\n",
      "\u001b[A\n",
      "\n",
      "chain 1 |\u001b[33m█         \u001b[0m| 00:00 Iteration:  600 / 7000 [  8%]  (Warmup)\n",
      "\u001b[A\n",
      "\n",
      "chain 1 |\u001b[34m██▏       \u001b[0m| 00:00 Iteration: 1300 / 7000 [ 18%]  (Sampling)\n",
      "\u001b[A\n",
      "\n",
      "chain 1 |\u001b[34m███▌      \u001b[0m| 00:01 Iteration: 2300 / 7000 [ 32%]  (Sampling)\n",
      "\u001b[A\n",
      "\n",
      "chain 1 |\u001b[34m████      \u001b[0m| 00:01 Iteration: 2600 / 7000 [ 37%]  (Sampling)\n",
      "\n",
      "\u001b[A\u001b[A\n",
      "chain 1 |\u001b[34m████▍     \u001b[0m| 00:01 Iteration: 2900 / 7000 [ 41%]  (Sampling)\n",
      "\n",
      "\u001b[A\u001b[A\n",
      "chain 1 |\u001b[34m████▋     \u001b[0m| 00:01 Iteration: 3100 / 7000 [ 44%]  (Sampling)\n",
      "\n",
      "chain 1 |\u001b[34m█████     \u001b[0m| 00:01 Iteration: 3300 / 7000 [ 47%]  (Sampling)\n",
      "\u001b[A\n",
      "\n",
      "chain 1 |\u001b[34m█████▎    \u001b[0m| 00:02 Iteration: 3500 / 7000 [ 50%]  (Sampling)\n",
      "\u001b[A\n",
      "\n",
      "chain 1 |\u001b[34m█████▌    \u001b[0m| 00:02 Iteration: 3700 / 7000 [ 52%]  (Sampling)\n",
      "\u001b[A\n",
      "\n",
      "chain 1 |\u001b[34m█████▊    \u001b[0m| 00:02 Iteration: 3900 / 7000 [ 55%]  (Sampling)\n",
      "\u001b[A\n",
      "\n",
      "chain 1 |\u001b[34m██████    \u001b[0m| 00:02 Iteration: 4100 / 7000 [ 58%]  (Sampling)\n",
      "\u001b[A\n",
      "\n",
      "chain 1 |\u001b[34m██████▍   \u001b[0m| 00:02 Iteration: 4300 / 7000 [ 61%]  (Sampling)\n",
      "\u001b[A\n",
      "\n",
      "chain 1 |\u001b[34m██████▋   \u001b[0m| 00:02 Iteration: 4500 / 7000 [ 64%]  (Sampling)\n",
      "\u001b[A\n",
      "\n",
      "chain 1 |\u001b[34m██████▉   \u001b[0m| 00:03 Iteration: 4700 / 7000 [ 67%]  (Sampling)\n",
      "\u001b[A\n",
      "\n",
      "chain 1 |\u001b[34m███████▏  \u001b[0m| 00:03 Iteration: 4900 / 7000 [ 70%]  (Sampling)\n",
      "\u001b[A\n",
      "\n",
      "chain 1 |\u001b[34m███████▌  \u001b[0m| 00:03 Iteration: 5100 / 7000 [ 72%]  (Sampling)\n",
      "\u001b[A\n",
      "\n",
      "chain 1 |\u001b[34m███████▊  \u001b[0m| 00:03 Iteration: 5300 / 7000 [ 75%]  (Sampling)\n",
      "\u001b[A\n",
      "\n",
      "chain 1 |\u001b[34m████████  \u001b[0m| 00:03 Iteration: 5500 / 7000 [ 78%]  (Sampling)\n",
      "\u001b[A\n",
      "\n",
      "chain 1 |\u001b[34m████████▎ \u001b[0m| 00:03 Iteration: 5700 / 7000 [ 81%]  (Sampling)\n",
      "\u001b[A\n",
      "\n",
      "chain 1 |\u001b[34m████████▌ \u001b[0m| 00:04 Iteration: 5900 / 7000 [ 84%]  (Sampling)\n",
      "\u001b[A\n",
      "\n",
      "chain 1 |\u001b[34m████████▉ \u001b[0m| 00:04 Iteration: 6100 / 7000 [ 87%]  (Sampling)\n",
      "\u001b[A\n",
      "\n",
      "chain 1 |\u001b[34m█████████▏\u001b[0m| 00:04 Iteration: 6300 / 7000 [ 90%]  (Sampling)\n",
      "\u001b[A\n",
      "\n",
      "chain 1 |\u001b[34m█████████▍\u001b[0m| 00:04 Iteration: 6500 / 7000 [ 92%]  (Sampling)\n",
      "\u001b[A\n",
      "\n",
      "chain 1 |\u001b[34m█████████▋\u001b[0m| 00:04 Iteration: 6700 / 7000 [ 95%]  (Sampling)\n",
      "\u001b[A\n",
      "\n",
      "chain 1 |\u001b[34m██████████\u001b[0m| 00:04 Sampling completed                       \n",
      "chain 2 |\u001b[34m██████████\u001b[0m| 00:04 Sampling completed                       \n",
      "chain 3 |\u001b[34m██████████\u001b[0m| 00:04 Sampling completed                       \n",
      "chain 4 |\u001b[34m██████████\u001b[0m| 00:04 Sampling completed                       "
     ]
    },
    {
     "name": "stdout",
     "output_type": "stream",
     "text": [
      "                                                                                                                                                                                                                                                                                                                                "
     ]
    },
    {
     "name": "stderr",
     "output_type": "stream",
     "text": [
      "\n",
      "INFO:cmdstanpy:CmdStan done processing.\n"
     ]
    },
    {
     "name": "stdout",
     "output_type": "stream",
     "text": [
      "\n"
     ]
    },
    {
     "data": {
      "text/plain": [
       "\"Processing csv files: /home/Lab2 - Introduction to Stan/samples/code_5-20230318195402_1.csv, /home/Lab2 - Introduction to Stan/samples/code_5-20230318195402_2.csv, /home/Lab2 - Introduction to Stan/samples/code_5-20230318195402_3.csv, /home/Lab2 - Introduction to Stan/samples/code_5-20230318195402_4.csv\\n\\nChecking sampler transitions treedepth.\\nTreedepth satisfactory for all transitions.\\n\\nChecking sampler transitions for divergences.\\n2 of 24000 (0.01%) transitions ended with a divergence.\\nThese divergent transitions indicate that HMC is not fully able to explore the posterior distribution.\\nTry increasing adapt delta closer to 1.\\nIf this doesn't remove all divergences, try to reparameterize the model.\\n\\nChecking E-BFMI - sampler transitions HMC potential energy.\\nE-BFMI satisfactory.\\n\\nEffective sample size satisfactory.\\n\\nSplit R-hat values satisfactory all parameters.\\n\\nProcessing complete.\\n\""
      ]
     },
     "execution_count": 72,
     "metadata": {},
     "output_type": "execute_result"
    }
   ],
   "source": [
    "model_gm2 = CmdStanModel(stan_file='code_5.stan')\n",
    "out_gamma2 = model_gm2.sample(output_dir='samples',iter_sampling=6000,iter_warmup=1000, seed=4838282)\n",
    "out_gamma2.diagnose()"
   ]
  },
  {
   "cell_type": "code",
   "execution_count": 73,
   "metadata": {},
   "outputs": [
    {
     "data": {
      "image/png": "[encoded data removed]",
      "text/plain": [
       "<Figure size 432x288 with 1 Axes>"
      ]
     },
     "metadata": {
      "needs_background": "light"
     },
     "output_type": "display_data"
    }
   ],
   "source": [
    "N=500\n",
    "xs = np.linspace(0,8,N)\n",
    "pdfs = stats.gamma.pdf(xs, 1.25, scale = 1 / 1.25) \n",
    "\n",
    "plt.plot(xs, pdfs, linewidth=2)\n",
    "\n",
    "## add histogram of theta samples from the second model with 160 bins\n",
    "\n",
    "plt.gca().set_xlabel(\"theta\")\n",
    "plt.gca().set_ylabel(\"Probability Density Function\")\n",
    "plt.show()"
   ]
  },
  {
   "cell_type": "markdown",
   "metadata": {},
   "source": [
    "## Excercise 4 -  Selection of parameters using equation solving\n",
    "\n"
   ]
  },
  {
   "cell_type": "code",
   "execution_count": 74,
   "metadata": {},
   "outputs": [
    {
     "ename": "SyntaxError",
     "evalue": "invalid syntax (2850169273.py, line 3)",
     "output_type": "error",
     "traceback": [
      "\u001b[0;36m  Input \u001b[0;32mIn [74]\u001b[0;36m\u001b[0m\n\u001b[0;31m    F = # number of letters in the first name\u001b[0m\n\u001b[0m        ^\u001b[0m\n\u001b[0;31mSyntaxError\u001b[0m\u001b[0;31m:\u001b[0m invalid syntax\n"
     ]
    }
   ],
   "source": [
    "model_tune = CmdStanModel(stan_file='code_6.stan')\n",
    "\n",
    "F = # number of letters in the first name\n",
    "L = # number of letters in the last name\n",
    "y0 = # initial guess for the equation solving\n",
    "\n",
    "data={'y_guess':[y0],\n",
    "        'theta':[(F+L)/2]}\n",
    "tunes = model_tune.sample(data=data, fixed_param=True, iter_sampling=1, iter_warmup=0, chains = 1)"
   ]
  },
  {
   "cell_type": "markdown",
   "metadata": {},
   "source": [
    "## Excercise 5 - different methods of defining models\n"
   ]
  },
  {
   "cell_type": "code",
   "execution_count": null,
   "metadata": {},
   "outputs": [],
   "source": [
    "model_samp_st = CmdStanModel(stan_file='code_7.stan')\n",
    "model_log_target = CmdStanModel(stan_file='code_8.stan')\n",
    "model_log_target_ind = CmdStanModel(stan_file='code_9.stan')\n",
    "data = {'N': F}\n",
    "seed = #integer, your date of birth in the DDMMYYYY format without leading zero (or if you are GPRD weary, use any other date you wish)\n",
    "result_1 = model_samp_st.sample(data=data,seed=seed)\n",
    "result_2 = model_log_target(data=data,seed=seed)\n",
    "result_3 = model_log_target_ind(data=data,seed=seed)\n",
    "\n"
   ]
  },
  {
   "cell_type": "code",
   "execution_count": null,
   "metadata": {},
   "outputs": [],
   "source": [
    "az.plot_density([result_1,result_2,result_3])\n",
    "plt.show()"
   ]
  },
  {
   "cell_type": "markdown",
   "metadata": {},
   "source": [
    "## Excercise 6 - generated quantities post sampling"
   ]
  },
  {
   "cell_type": "code",
   "execution_count": null,
   "metadata": {},
   "outputs": [],
   "source": [
    "model_gq = CmdStanModel(stan_file='code_10.stan')\n",
    "# fill in with chosen result from previous excercise\n",
    "mean_of_y = model_gq.generate_quantities(data=data,\n",
    "                                        mcmc_sample = )\n",
    "# investigate the output and plot histogram of mean_y variable"
   ]
  }
 ],
 "metadata": {
  "kernelspec": {
   "display_name": "Python 3.7.10 64-bit ('DA2021': conda)",
   "metadata": {
    "interpreter": {
     "hash": "045f3ba9fbd7084f57766e40ea0c4bb3a1b26edfff4812021a661f88e63a0844"
    }
   },
   "name": "python3"
  },
  "language_info": {
   "codemirror_mode": {
    "name": "ipython",
    "version": 3
   },
   "file_extension": ".py",
   "mimetype": "text/x-python",
   "name": "python",
   "nbconvert_exporter": "python",
   "pygments_lexer": "ipython3",
   "version": "3.9.11"
  },
  "orig_nbformat": 2
 },
 "nbformat": 4,
 "nbformat_minor": 2
}
